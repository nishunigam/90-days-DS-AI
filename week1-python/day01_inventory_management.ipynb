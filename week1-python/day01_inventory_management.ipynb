# Step 1: Create Inventory Dictionary
inventory = {
    "apple": 10,
    "banana": 0,
    "mango": 5,
    "grapes": 0
}

# Step 2: Print items out of stock
for item, qty in inventory.items():
    if qty == 0:
        print(f"{item} is out of stock")

# Step 3: Define a restock function
def restock(item, quantity):
    if item in inventory:
        inventory[item] += quantity
    else:
        inventory[item] = quantity

# Step 4: Test restocking
restock("banana", 20)
print("\nAfter restocking:")
print(inventory)
