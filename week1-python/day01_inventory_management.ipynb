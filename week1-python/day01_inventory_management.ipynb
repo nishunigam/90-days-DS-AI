{
  "nbformat": 4,
  "nbformat_minor": 0,
  "metadata": {
    "colab": {
      "provenance": []
    },
    "kernelspec": {
      "name": "python3",
      "display_name": "Python 3"
    },
    "language_info": {
      "name": "python"
    }
  },
  "cells": [
    {
      "cell_type": "code",
      "execution_count": 1,
      "metadata": {
        "colab": {
          "base_uri": "https://localhost:8080/"
        },
        "id": "IvVhlnhZeN-o",
        "outputId": "c7d4d33c-afa9-4059-d825-4dc469dd9690"
      },
      "outputs": [
        {
          "output_type": "stream",
          "name": "stdout",
          "text": [
            "banana is out of stock\n",
            "grapes is out of stock\n",
            "\n",
            "After restocking:\n",
            "{'apple': 10, 'banana': 20, 'mango': 5, 'grapes': 0}\n"
          ]
        }
      ],
      "source": [
        "# Step 1: Create Inventory Dictionary\n",
        "inventory = {\n",
        "    \"apple\": 10,\n",
        "    \"banana\": 0,\n",
        "    \"mango\": 5,\n",
        "    \"grapes\": 0\n",
        "}\n",
        "\n",
        "# Step 2: Print items out of stock\n",
        "for item, qty in inventory.items():\n",
        "    if qty == 0:\n",
        "        print(f\"{item} is out of stock\")\n",
        "\n",
        "# Step 3: Define a restock function\n",
        "def restock(item, quantity):\n",
        "    if item in inventory:\n",
        "        inventory[item] += quantity\n",
        "    else:\n",
        "        inventory[item] = quantity\n",
        "\n",
        "# Step 4: Test restocking\n",
        "restock(\"banana\", 20)\n",
        "print(\"\\nAfter restocking:\")\n",
        "print(inventory)\n"
      ]
    }
  ]
}